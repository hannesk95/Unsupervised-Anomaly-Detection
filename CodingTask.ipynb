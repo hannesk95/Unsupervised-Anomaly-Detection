{
 "cells": [
  {
   "cell_type": "markdown",
   "metadata": {},
   "source": [
    "# Imports"
   ]
  },
  {
   "cell_type": "code",
   "execution_count": 1,
   "metadata": {
    "scrolled": true
   },
   "outputs": [],
   "source": [
    "import os\n",
    "import random\n",
    "import requests\n",
    "\n",
    "import numpy as np\n",
    "import pandas as pd\n",
    "from tqdm import tqdm\n",
    "from datetime import datetime\n",
    "from collections import Counter\n",
    "\n",
    "import seaborn as sns\n",
    "import matplotlib.pyplot as plt\n",
    "%matplotlib inline\n",
    "\n",
    "from sklearn.decomposition import PCA\n",
    "from sklearn.ensemble import IsolationForest"
   ]
  },
  {
   "cell_type": "markdown",
   "metadata": {},
   "source": [
    "# Task description\n",
    "\n",
    "Since we want to get a better understanding of your Python skills and how you approach a task, we ask you to send us a solution for this coding task till March, 3rd 2021, 10 am CET.\n",
    "\n",
    "Imagine we have a new customer who provides us a small dataset and wants to get some insights about his fleet.\n",
    "\n",
    "Your task is to perform a little data exploration on the provided data and then apply simple anomaly detection techniques. <br>\n",
    "Support your findings with plots, when possible and when it makes sense. <br>\n",
    "Do not forget to comment your code and write a final conclusion when you are done."
   ]
  },
  {
   "cell_type": "markdown",
   "metadata": {},
   "source": [
    "As a dataset for this small task, we use data of trains operating in Finland, which is accesible through an API (https://www.digitraffic.fi/en/railway-traffic/)."
   ]
  },
  {
   "cell_type": "markdown",
   "metadata": {},
   "source": [
    "For a fast start, we provide some examples how you can query data: "
   ]
  },
  {
   "cell_type": "code",
   "execution_count": 2,
   "metadata": {
    "scrolled": true
   },
   "outputs": [],
   "source": [
    "# live data for the current trains\n",
    "live_api = 'https://rata.digitraffic.fi/api/v1/live-trains/'\n",
    "\n",
    "# data for one train and one particular date\n",
    "train_day_api = 'https://rata.digitraffic.fi/api/v1/trains/2021-02-01/4'\n",
    "\n",
    "# data for one particular day for all trains\n",
    "day_api = 'https://rata.digitraffic.fi/api/v1/trains/2021-02-01'"
   ]
  },
  {
   "cell_type": "code",
   "execution_count": 3,
   "metadata": {
    "scrolled": true
   },
   "outputs": [
    {
     "data": {
      "text/html": [
       "<div>\n",
       "<style scoped>\n",
       "    .dataframe tbody tr th:only-of-type {\n",
       "        vertical-align: middle;\n",
       "    }\n",
       "\n",
       "    .dataframe tbody tr th {\n",
       "        vertical-align: top;\n",
       "    }\n",
       "\n",
       "    .dataframe thead th {\n",
       "        text-align: right;\n",
       "    }\n",
       "</style>\n",
       "<table border=\"1\" class=\"dataframe\">\n",
       "  <thead>\n",
       "    <tr style=\"text-align: right;\">\n",
       "      <th></th>\n",
       "      <th>trainNumber</th>\n",
       "      <th>departureDate</th>\n",
       "      <th>operatorUICCode</th>\n",
       "      <th>operatorShortCode</th>\n",
       "      <th>trainType</th>\n",
       "      <th>trainCategory</th>\n",
       "      <th>commuterLineID</th>\n",
       "      <th>runningCurrently</th>\n",
       "      <th>cancelled</th>\n",
       "      <th>version</th>\n",
       "      <th>timetableType</th>\n",
       "      <th>timetableAcceptanceDate</th>\n",
       "      <th>timeTableRows</th>\n",
       "    </tr>\n",
       "  </thead>\n",
       "  <tbody>\n",
       "    <tr>\n",
       "      <th>0</th>\n",
       "      <td>1</td>\n",
       "      <td>2021-02-01</td>\n",
       "      <td>10</td>\n",
       "      <td>vr</td>\n",
       "      <td>IC</td>\n",
       "      <td>Long-distance</td>\n",
       "      <td></td>\n",
       "      <td>False</td>\n",
       "      <td>False</td>\n",
       "      <td>276769881393</td>\n",
       "      <td>REGULAR</td>\n",
       "      <td>2020-11-06T10:17:00.000Z</td>\n",
       "      <td>[{'stationShortCode': 'HKI', 'stationUICCode':...</td>\n",
       "    </tr>\n",
       "    <tr>\n",
       "      <th>1</th>\n",
       "      <td>2</td>\n",
       "      <td>2021-02-01</td>\n",
       "      <td>10</td>\n",
       "      <td>vr</td>\n",
       "      <td>S</td>\n",
       "      <td>Long-distance</td>\n",
       "      <td></td>\n",
       "      <td>False</td>\n",
       "      <td>False</td>\n",
       "      <td>276768326837</td>\n",
       "      <td>REGULAR</td>\n",
       "      <td>2020-12-18T11:03:54.000Z</td>\n",
       "      <td>[{'stationShortCode': 'JNS', 'stationUICCode':...</td>\n",
       "    </tr>\n",
       "    <tr>\n",
       "      <th>2</th>\n",
       "      <td>3</td>\n",
       "      <td>2021-02-01</td>\n",
       "      <td>10</td>\n",
       "      <td>vr</td>\n",
       "      <td>IC</td>\n",
       "      <td>Long-distance</td>\n",
       "      <td></td>\n",
       "      <td>False</td>\n",
       "      <td>False</td>\n",
       "      <td>276772188938</td>\n",
       "      <td>REGULAR</td>\n",
       "      <td>2020-08-20T10:15:10.000Z</td>\n",
       "      <td>[{'stationShortCode': 'HKI', 'stationUICCode':...</td>\n",
       "    </tr>\n",
       "    <tr>\n",
       "      <th>3</th>\n",
       "      <td>4</td>\n",
       "      <td>2021-02-01</td>\n",
       "      <td>10</td>\n",
       "      <td>vr</td>\n",
       "      <td>IC</td>\n",
       "      <td>Long-distance</td>\n",
       "      <td></td>\n",
       "      <td>False</td>\n",
       "      <td>False</td>\n",
       "      <td>276770864708</td>\n",
       "      <td>REGULAR</td>\n",
       "      <td>2020-12-18T11:03:54.000Z</td>\n",
       "      <td>[{'stationShortCode': 'JNS', 'stationUICCode':...</td>\n",
       "    </tr>\n",
       "    <tr>\n",
       "      <th>4</th>\n",
       "      <td>5</td>\n",
       "      <td>2021-02-01</td>\n",
       "      <td>10</td>\n",
       "      <td>vr</td>\n",
       "      <td>IC</td>\n",
       "      <td>Long-distance</td>\n",
       "      <td></td>\n",
       "      <td>False</td>\n",
       "      <td>False</td>\n",
       "      <td>276774574292</td>\n",
       "      <td>REGULAR</td>\n",
       "      <td>2020-11-06T10:17:00.000Z</td>\n",
       "      <td>[{'stationShortCode': 'HKI', 'stationUICCode':...</td>\n",
       "    </tr>\n",
       "  </tbody>\n",
       "</table>\n",
       "</div>"
      ],
      "text/plain": [
       "   trainNumber departureDate  operatorUICCode operatorShortCode trainType  \\\n",
       "0            1    2021-02-01               10                vr        IC   \n",
       "1            2    2021-02-01               10                vr         S   \n",
       "2            3    2021-02-01               10                vr        IC   \n",
       "3            4    2021-02-01               10                vr        IC   \n",
       "4            5    2021-02-01               10                vr        IC   \n",
       "\n",
       "   trainCategory commuterLineID  runningCurrently  cancelled       version  \\\n",
       "0  Long-distance                            False      False  276769881393   \n",
       "1  Long-distance                            False      False  276768326837   \n",
       "2  Long-distance                            False      False  276772188938   \n",
       "3  Long-distance                            False      False  276770864708   \n",
       "4  Long-distance                            False      False  276774574292   \n",
       "\n",
       "  timetableType   timetableAcceptanceDate  \\\n",
       "0       REGULAR  2020-11-06T10:17:00.000Z   \n",
       "1       REGULAR  2020-12-18T11:03:54.000Z   \n",
       "2       REGULAR  2020-08-20T10:15:10.000Z   \n",
       "3       REGULAR  2020-12-18T11:03:54.000Z   \n",
       "4       REGULAR  2020-11-06T10:17:00.000Z   \n",
       "\n",
       "                                       timeTableRows  \n",
       "0  [{'stationShortCode': 'HKI', 'stationUICCode':...  \n",
       "1  [{'stationShortCode': 'JNS', 'stationUICCode':...  \n",
       "2  [{'stationShortCode': 'HKI', 'stationUICCode':...  \n",
       "3  [{'stationShortCode': 'JNS', 'stationUICCode':...  \n",
       "4  [{'stationShortCode': 'HKI', 'stationUICCode':...  "
      ]
     },
     "execution_count": 3,
     "metadata": {},
     "output_type": "execute_result"
    }
   ],
   "source": [
    "#data = pd.read_json(requests.get(live_api).text)\n",
    "#data = pd.read_json(requests.get(train_day_api).text)\n",
    "data = pd.read_json(requests.get(day_api).text)\n",
    "data.head()"
   ]
  },
  {
   "cell_type": "markdown",
   "metadata": {},
   "source": [
    "# Your Approach\n",
    "\n",
    "Perform the following steps:\n",
    "1. Load the data from the API (use at least one month of data)\n",
    "2. Perform data exploration to get a better understanding of the data, which information is it providing and describe what you find. \n",
    "    - See this step also as preparation for the next one\n",
    "    - Consider that the column 'timeTableRows' contains further, embedded information\n",
    "    - Important aspects could also be cancellations, delays and their causes\n",
    "\n",
    "\n",
    "3. Try to find anomalies taking into account: \n",
    "    - Number of stations on the way\n",
    "    - Total time from entry point to final destination"
   ]
  },
  {
   "cell_type": "markdown",
   "metadata": {},
   "source": [
    "## Dataset preparation\n",
    "- Create functions in order to do feature engineering\n",
    "- Retrieve data from API and store everything in pandas dataframe"
   ]
  },
  {
   "cell_type": "code",
   "execution_count": 2,
   "metadata": {
    "scrolled": true
   },
   "outputs": [],
   "source": [
    "def get_total_journey_time(df: pd.DataFrame):\n",
    "    \n",
    "    colNames = df.columns\n",
    "\n",
    "    if('actualTime' in colNames):\n",
    "\n",
    "        start = df['actualTime'].iloc[0]\n",
    "        end = df['actualTime'].iloc[-1]\n",
    "        \n",
    "        if(type(start) != str):\n",
    "            return np.nan\n",
    "        if(type(end) != str):\n",
    "            return np.nan\n",
    "\n",
    "        start = start.replace(\"T\", \" \").split('.')[0]\n",
    "        startTime = datetime.fromisoformat(start)\n",
    "\n",
    "        end = end.replace(\"T\", \" \").split('.')[0]\n",
    "        endTime = datetime.fromisoformat(end)\n",
    "\n",
    "        time_delta = (endTime - startTime)\n",
    "        total_seconds = time_delta.total_seconds()\n",
    "        minutes = total_seconds / 60\n",
    "\n",
    "        return minutes\n",
    "\n",
    "    else:\n",
    "        return np.nan "
   ]
  },
  {
   "cell_type": "code",
   "execution_count": 3,
   "metadata": {
    "scrolled": true
   },
   "outputs": [],
   "source": [
    "def cross_country(df: pd.DataFrame) -> bool:\n",
    "    \n",
    "    retval = False\n",
    "    \n",
    "    if(df['countryCode'].nunique() > 1):\n",
    "        retval = True\n",
    "    \n",
    "    return retval   "
   ]
  },
  {
   "cell_type": "code",
   "execution_count": 4,
   "metadata": {
    "scrolled": true
   },
   "outputs": [],
   "source": [
    "def get_total_delay(df: pd.DataFrame) -> float:\n",
    "    \n",
    "    retval = np.inf\n",
    "\n",
    "    colNames = df.columns\n",
    "    if('differenceInMinutes' in colNames):\n",
    "        retval = df['differenceInMinutes'].iloc[-1]\n",
    "\n",
    "    return retval      "
   ]
  },
  {
   "cell_type": "code",
   "execution_count": 5,
   "metadata": {
    "scrolled": true
   },
   "outputs": [],
   "source": [
    "def get_total_stops(df: pd.DataFrame) -> int:\n",
    "    \n",
    "    return int(df['trainStopping'].value_counts()[True] / 2)        "
   ]
  },
  {
   "cell_type": "code",
   "execution_count": 6,
   "metadata": {
    "scrolled": true
   },
   "outputs": [],
   "source": [
    "def was_cancelled(df: pd.DataFrame) -> bool:\n",
    "    \n",
    "    retval = False\n",
    "       \n",
    "    if(df['cancelled'].nunique() > 1):\n",
    "        retval = True\n",
    "    \n",
    "    return retval"
   ]
  },
  {
   "cell_type": "code",
   "execution_count": 7,
   "metadata": {
    "scrolled": true
   },
   "outputs": [],
   "source": [
    "def get_cause(df: pd.DataFrame) -> list:\n",
    "    \n",
    "    flat_list = [item for sublist in df['causes'].tolist() for item in sublist]\n",
    "    \n",
    "    return flat_list"
   ]
  },
  {
   "cell_type": "code",
   "execution_count": 8,
   "metadata": {
    "scrolled": true
   },
   "outputs": [
    {
     "name": "stderr",
     "output_type": "stream",
     "text": [
      "100%|██████████████████████████████████████████████████████████████████████████████████| 31/31 [02:24<00:00,  4.65s/it]\n"
     ]
    }
   ],
   "source": [
    "days = pd.date_range(start='20210101',end='20210131',freq='D').strftime('%Y-%m-%d').tolist()\n",
    "api = 'https://rata.digitraffic.fi/api/v1/trains/'\n",
    "\n",
    "dataframes = []\n",
    "numStations = []\n",
    "totalDelay = []\n",
    "crossCountry = []\n",
    "totalTime = []\n",
    "totalStops = []\n",
    "cancelled = []\n",
    "causes = []\n",
    "\n",
    "for day in tqdm(days):\n",
    "    data = pd.read_json(requests.get(os.path.join(api, day)).text)\n",
    "    \n",
    "    timeTableRows = data.iloc[:, -1]\n",
    "    \n",
    "    for i in range(len(timeTableRows)):\n",
    "        timeTable = timeTableRows.to_dict()[i]\n",
    "        timeTableDF = pd.DataFrame(timeTable)\n",
    "        \n",
    "        numStations.append(int(timeTableDF.shape[0]/2))\n",
    "        totalDelay.append(get_total_delay(timeTableDF))\n",
    "        crossCountry.append(cross_country(timeTableDF))\n",
    "        totalTime.append(get_total_journey_time(timeTableDF))        \n",
    "        totalStops.append(get_total_stops(timeTableDF))\n",
    "        cancelled.append(was_cancelled(timeTableDF))\n",
    "        causes.append(get_cause(timeTableDF))        \n",
    "    \n",
    "    data['numStations'] = pd.Series(numStations)\n",
    "    data['totalDelay'] = pd.Series(totalDelay)\n",
    "    data['crossCountry'] = pd.Series(crossCountry)\n",
    "    data['totalTime (minutes)'] = pd.Series(totalTime)\n",
    "    data['totalStops'] = pd.Series(totalStops)\n",
    "    data['cancelled2'] = pd.Series(cancelled)\n",
    "    data['causes'] = pd.Series(causes)\n",
    "    \n",
    "    dataframes.append(data)    \n",
    "    \n",
    "data = pd.concat(dataframes)"
   ]
  },
  {
   "cell_type": "code",
   "execution_count": 9,
   "metadata": {
    "scrolled": false
   },
   "outputs": [
    {
     "name": "stdout",
     "output_type": "stream",
     "text": [
      "Data shape:  (51812, 20)\n"
     ]
    }
   ],
   "source": [
    "print(\"Data shape: \", data.shape)"
   ]
  },
  {
   "cell_type": "markdown",
   "metadata": {},
   "source": [
    "## Dataset cleaning\n",
    "- drop columns which are not needed for anomaly detection (mainly, numerical features are kept)\n",
    "- drop observations which include NaN values"
   ]
  },
  {
   "cell_type": "code",
   "execution_count": 10,
   "metadata": {
    "scrolled": true
   },
   "outputs": [
    {
     "data": {
      "text/plain": [
       "(44593, 4)"
      ]
     },
     "execution_count": 10,
     "metadata": {},
     "output_type": "execute_result"
    }
   ],
   "source": [
    "X = data.copy()\n",
    "\n",
    "drop_col = ['trainNumber', 'departureDate', 'operatorUICCode', 'operatorShortCode', 'trainType', 'trainCategory', \n",
    "            'commuterLineID', 'runningCurrently', 'version', 'timetableType', 'timetableAcceptanceDate',\n",
    "            'timeTableRows', 'causes', 'crossCountry', 'cancelled2', 'cancelled']\n",
    "\n",
    "X.drop(labels=drop_col, axis=1, inplace=True)\n",
    "X.dropna(axis=0, inplace=True)\n",
    "X.shape"
   ]
  },
  {
   "cell_type": "markdown",
   "metadata": {},
   "source": [
    "## Data exploration\n",
    "- Idea: Get intuition about feature correlation\n",
    "- Reduce dimensionality and see whether data anomalies can be already suspected in 2D plot (PCA)"
   ]
  },
  {
   "cell_type": "markdown",
   "metadata": {},
   "source": [
    "### Feature distribution and correlation"
   ]
  },
  {
   "cell_type": "code",
   "execution_count": 12,
   "metadata": {
    "scrolled": false
   },
   "outputs": [
    {
     "data": {
      "image/png": "[encoded data removed]",
      "text/plain": [
       "<Figure size 720x720 with 20 Axes>"
      ]
     },
     "metadata": {},
     "output_type": "display_data"
    }
   ],
   "source": [
    "sns.pairplot(X,diag_kind='kde',height = 2.5)\n",
    "sns.set(font_scale = 1.5)"
   ]
  },
  {
   "cell_type": "markdown",
   "metadata": {},
   "source": [
    "**Looking on the lower triangular matrix of the repesented plot above, it can be seen that there is a positive correlation between**\n",
    "\n",
    "- numStations - totalStops\n",
    "- totalTime (minutes) - totalStops\n",
    "- numStations - totalTime (minutes)"
   ]
  },
  {
   "cell_type": "markdown",
   "metadata": {},
   "source": [
    "### Principle Component Analysis (PCA)"
   ]
  },
  {
   "cell_type": "code",
   "execution_count": 13,
   "metadata": {
    "scrolled": true
   },
   "outputs": [],
   "source": [
    "X.head()\n",
    "pca = PCA(n_components=X.shape[1])\n",
    "X_trans = pca.fit_transform(X)"
   ]
  },
  {
   "cell_type": "code",
   "execution_count": 24,
   "metadata": {
    "scrolled": true
   },
   "outputs": [
    {
     "data": {
      "image/png": "[encoded data removed]",
      "text/plain": [
       "<Figure size 1008x432 with 1 Axes>"
      ]
     },
     "metadata": {},
     "output_type": "display_data"
    }
   ],
   "source": [
    "sval = pca.singular_values_ #gives you the sorted singular values\n",
    "principal_components = np.arange(len(sval))+1\n",
    "fontsize = 18\n",
    "\n",
    "plt.figure(figsize=(14,6))\n",
    "plt.plot(np.cumsum(pca.explained_variance_ratio_), linewidth=5)\n",
    "plt.title(\"PCA Variance Explained\", fontsize=fontsize)\n",
    "plt.xlabel('Number of components', fontsize=fontsize)\n",
    "plt.ylabel('Cumulative explained variance', fontsize=fontsize)\n",
    "plt.xticks(np.arange(len(sval)), principal_components, fontsize=fontsize)\n",
    "plt.yticks(fontsize=fontsize)\n",
    "plt.show()"
   ]
  },
  {
   "cell_type": "markdown",
   "metadata": {},
   "source": [
    "**From the plot above I can conclude, using the current feature set, that the first two componenents are enough to reduce dimensionality, while not loosing to much information: ~99% of data variance is preserved!**"
   ]
  },
  {
   "cell_type": "code",
   "execution_count": 25,
   "metadata": {
    "scrolled": false
   },
   "outputs": [
    {
     "data": {
      "image/png": "[encoded data removed]",
      "text/plain": [
       "<Figure size 1008x432 with 1 Axes>"
      ]
     },
     "metadata": {},
     "output_type": "display_data"
    }
   ],
   "source": [
    "fontsize = 18\n",
    "\n",
    "plt.figure(figsize=(14,6))\n",
    "plt.scatter(X_trans[:,0], X_trans[:,1])\n",
    "plt.title(\"PCA Scatter Plot of the first two Principle Components\", fontsize=fontsize)\n",
    "plt.xlabel('Principle Component 1', fontsize=fontsize)\n",
    "plt.ylabel('Principle Component 2', fontsize=fontsize)\n",
    "plt.xticks(fontsize=fontsize)\n",
    "plt.yticks(fontsize=fontsize)\n",
    "plt.show()"
   ]
  },
  {
   "cell_type": "markdown",
   "metadata": {},
   "source": [
    "**In this plot, one might already suspect which region of the plot contains most of the outliers. As the point cloud on the left is rather dense, I would suspect that the anomal datapoints are most likely on the right half plane and somewhere around the dense datapoints with cluster center (0,0).** "
   ]
  },
  {
   "cell_type": "markdown",
   "metadata": {},
   "source": [
    "## Anomaly detection\n",
    "\n",
    "What I know so far about IsolationForests, they can be sensitive to the amout of training data. In order to investigate the bahaviour of the IsolationForest, different training set sizes are evaluated. Each training set size is evaluated 10 times. The respective samples are chosen randomly. "
   ]
  },
  {
   "cell_type": "code",
   "execution_count": 26,
   "metadata": {
    "scrolled": true
   },
   "outputs": [
    {
     "name": "stderr",
     "output_type": "stream",
     "text": [
      "100%|████████████████████████████████████████████████████████████████████████████████████| 8/8 [01:13<00:00,  9.23s/it]\n"
     ]
    }
   ],
   "source": [
    "train_size = [500, 2500, 5000, 10000, 20000, 25000, 40000, X.shape[0]]\n",
    "\n",
    "anomaly_dict = {}\n",
    "\n",
    "for size in tqdm(train_size):   \n",
    "    anomalies = []\n",
    "    for i in range(10):\n",
    "        randomlist = random.sample(range(0, X.shape[0]), size)\n",
    "        clf = IsolationForest(random_state=0).fit(X.iloc[randomlist])\n",
    "        result = clf.predict(X)\n",
    "        anomal_index = np.where(result==-1)\n",
    "        anomalies.append(len(anomal_index[0]))  \n",
    "    \n",
    "    anomaly_dict[size] = anomalies    "
   ]
  },
  {
   "cell_type": "code",
   "execution_count": 27,
   "metadata": {
    "scrolled": true
   },
   "outputs": [
    {
     "data": {
      "text/html": [
       "<div>\n",
       "<style scoped>\n",
       "    .dataframe tbody tr th:only-of-type {\n",
       "        vertical-align: middle;\n",
       "    }\n",
       "\n",
       "    .dataframe tbody tr th {\n",
       "        vertical-align: top;\n",
       "    }\n",
       "\n",
       "    .dataframe thead th {\n",
       "        text-align: right;\n",
       "    }\n",
       "</style>\n",
       "<table border=\"1\" class=\"dataframe\">\n",
       "  <thead>\n",
       "    <tr style=\"text-align: right;\">\n",
       "      <th></th>\n",
       "      <th>0</th>\n",
       "      <th>1</th>\n",
       "      <th>2</th>\n",
       "      <th>3</th>\n",
       "      <th>4</th>\n",
       "      <th>5</th>\n",
       "      <th>6</th>\n",
       "      <th>7</th>\n",
       "      <th>8</th>\n",
       "      <th>9</th>\n",
       "      <th>mean</th>\n",
       "      <th>std</th>\n",
       "    </tr>\n",
       "  </thead>\n",
       "  <tbody>\n",
       "    <tr>\n",
       "      <th>500</th>\n",
       "      <td>6727</td>\n",
       "      <td>7827</td>\n",
       "      <td>6011</td>\n",
       "      <td>7425</td>\n",
       "      <td>7732</td>\n",
       "      <td>6843</td>\n",
       "      <td>7834</td>\n",
       "      <td>7907</td>\n",
       "      <td>7868</td>\n",
       "      <td>7926</td>\n",
       "      <td>7410</td>\n",
       "      <td>626</td>\n",
       "    </tr>\n",
       "    <tr>\n",
       "      <th>2500</th>\n",
       "      <td>7728</td>\n",
       "      <td>7198</td>\n",
       "      <td>6700</td>\n",
       "      <td>6648</td>\n",
       "      <td>6852</td>\n",
       "      <td>7235</td>\n",
       "      <td>7437</td>\n",
       "      <td>8010</td>\n",
       "      <td>6888</td>\n",
       "      <td>7920</td>\n",
       "      <td>7261</td>\n",
       "      <td>473</td>\n",
       "    </tr>\n",
       "    <tr>\n",
       "      <th>5000</th>\n",
       "      <td>7152</td>\n",
       "      <td>7742</td>\n",
       "      <td>6644</td>\n",
       "      <td>6391</td>\n",
       "      <td>8045</td>\n",
       "      <td>7363</td>\n",
       "      <td>7695</td>\n",
       "      <td>7856</td>\n",
       "      <td>6934</td>\n",
       "      <td>6284</td>\n",
       "      <td>7210</td>\n",
       "      <td>598</td>\n",
       "    </tr>\n",
       "    <tr>\n",
       "      <th>10000</th>\n",
       "      <td>7030</td>\n",
       "      <td>7024</td>\n",
       "      <td>6043</td>\n",
       "      <td>7363</td>\n",
       "      <td>7596</td>\n",
       "      <td>7692</td>\n",
       "      <td>7126</td>\n",
       "      <td>7307</td>\n",
       "      <td>7776</td>\n",
       "      <td>7698</td>\n",
       "      <td>7265</td>\n",
       "      <td>487</td>\n",
       "    </tr>\n",
       "    <tr>\n",
       "      <th>20000</th>\n",
       "      <td>6744</td>\n",
       "      <td>7620</td>\n",
       "      <td>6919</td>\n",
       "      <td>6821</td>\n",
       "      <td>7799</td>\n",
       "      <td>7419</td>\n",
       "      <td>7763</td>\n",
       "      <td>7333</td>\n",
       "      <td>7492</td>\n",
       "      <td>7244</td>\n",
       "      <td>7315</td>\n",
       "      <td>360</td>\n",
       "    </tr>\n",
       "    <tr>\n",
       "      <th>25000</th>\n",
       "      <td>6385</td>\n",
       "      <td>6682</td>\n",
       "      <td>6522</td>\n",
       "      <td>6856</td>\n",
       "      <td>7188</td>\n",
       "      <td>7061</td>\n",
       "      <td>7683</td>\n",
       "      <td>6753</td>\n",
       "      <td>7608</td>\n",
       "      <td>7145</td>\n",
       "      <td>6988</td>\n",
       "      <td>410</td>\n",
       "    </tr>\n",
       "    <tr>\n",
       "      <th>40000</th>\n",
       "      <td>7234</td>\n",
       "      <td>8387</td>\n",
       "      <td>7768</td>\n",
       "      <td>7397</td>\n",
       "      <td>7554</td>\n",
       "      <td>7493</td>\n",
       "      <td>7249</td>\n",
       "      <td>6947</td>\n",
       "      <td>7290</td>\n",
       "      <td>7579</td>\n",
       "      <td>7489</td>\n",
       "      <td>368</td>\n",
       "    </tr>\n",
       "    <tr>\n",
       "      <th>44593</th>\n",
       "      <td>6179</td>\n",
       "      <td>6788</td>\n",
       "      <td>7208</td>\n",
       "      <td>7543</td>\n",
       "      <td>6212</td>\n",
       "      <td>7038</td>\n",
       "      <td>7002</td>\n",
       "      <td>7048</td>\n",
       "      <td>7433</td>\n",
       "      <td>6551</td>\n",
       "      <td>6900</td>\n",
       "      <td>443</td>\n",
       "    </tr>\n",
       "  </tbody>\n",
       "</table>\n",
       "</div>"
      ],
      "text/plain": [
       "          0     1     2     3     4     5     6     7     8     9  mean  std\n",
       "500    6727  7827  6011  7425  7732  6843  7834  7907  7868  7926  7410  626\n",
       "2500   7728  7198  6700  6648  6852  7235  7437  8010  6888  7920  7261  473\n",
       "5000   7152  7742  6644  6391  8045  7363  7695  7856  6934  6284  7210  598\n",
       "10000  7030  7024  6043  7363  7596  7692  7126  7307  7776  7698  7265  487\n",
       "20000  6744  7620  6919  6821  7799  7419  7763  7333  7492  7244  7315  360\n",
       "25000  6385  6682  6522  6856  7188  7061  7683  6753  7608  7145  6988  410\n",
       "40000  7234  8387  7768  7397  7554  7493  7249  6947  7290  7579  7489  368\n",
       "44593  6179  6788  7208  7543  6212  7038  7002  7048  7433  6551  6900  443"
      ]
     },
     "execution_count": 27,
     "metadata": {},
     "output_type": "execute_result"
    }
   ],
   "source": [
    "anomaly = pd.DataFrame(anomaly_dict).transpose()\n",
    "anomaly['mean'] = anomaly.mean(axis=1).astype(int)\n",
    "anomaly['std'] = anomaly.std(axis=1).astype(int)\n",
    "anomaly.head(len(train_size))"
   ]
  },
  {
   "cell_type": "markdown",
   "metadata": {},
   "source": [
    "**From the table above, I can conclude that, generally, the size of the training set for the IsolationForest does not play a big role in this case. Nevertheless, according to the lowest standard deviation while using 20000 samples, I will choose 20000 randomly sampled datapoints in order to train the IsolationForest.**"
   ]
  },
  {
   "cell_type": "markdown",
   "metadata": {},
   "source": [
    "### Train IsolationForest on 20000 data samples and make predictions for all datapoints"
   ]
  },
  {
   "cell_type": "code",
   "execution_count": 28,
   "metadata": {
    "scrolled": true
   },
   "outputs": [
    {
     "data": {
      "text/plain": [
       "(44593,)"
      ]
     },
     "execution_count": 28,
     "metadata": {},
     "output_type": "execute_result"
    }
   ],
   "source": [
    "randomlist = random.sample(range(0, X.shape[0]), 20000)\n",
    "\n",
    "clf = IsolationForest(random_state=0).fit(X.iloc[randomlist])\n",
    "results = clf.predict(X)\n",
    "results = pd.Series(results)\n",
    "results.shape"
   ]
  },
  {
   "cell_type": "markdown",
   "metadata": {},
   "source": [
    "### Get indices of normal and anomal data and show some statistics"
   ]
  },
  {
   "cell_type": "code",
   "execution_count": 33,
   "metadata": {
    "scrolled": true
   },
   "outputs": [
    {
     "name": "stdout",
     "output_type": "stream",
     "text": [
      "Number normal:  37283\n",
      "Number anomal:  7310\n",
      "Ratio Anomal/Total: 16.39 %\n"
     ]
    }
   ],
   "source": [
    "anomal_index = np.where(results == -1)\n",
    "normal_index = np.where(results == 1)\n",
    "anomal_index = anomal_index[0].tolist()\n",
    "normal_index = normal_index[0].tolist()\n",
    "print(\"Number normal: \", len(normal_index))\n",
    "print(\"Number anomal: \", len(anomal_index))\n",
    "print(\"Ratio Anomal/Total: {:.2f} %\".format(len(anomal_index)/result.shape[0]*100))"
   ]
  },
  {
   "cell_type": "markdown",
   "metadata": {},
   "source": [
    "### Slice original data into normal and anomal data parts"
   ]
  },
  {
   "cell_type": "code",
   "execution_count": 34,
   "metadata": {
    "scrolled": false
   },
   "outputs": [
    {
     "name": "stdout",
     "output_type": "stream",
     "text": [
      "(7310, 4)\n",
      "(37283, 4)\n"
     ]
    }
   ],
   "source": [
    "anomalData = X.iloc[anomal_index]\n",
    "normalData = X.iloc[normal_index]\n",
    "print(anomalData.shape)\n",
    "print(normalData.shape)"
   ]
  },
  {
   "cell_type": "markdown",
   "metadata": {},
   "source": [
    "### PCA plot after anomality detection"
   ]
  },
  {
   "cell_type": "code",
   "execution_count": 35,
   "metadata": {
    "scrolled": false
   },
   "outputs": [
    {
     "data": {
      "image/png": "[encoded data removed]",
      "text/plain": [
       "<Figure size 1008x432 with 1 Axes>"
      ]
     },
     "metadata": {},
     "output_type": "display_data"
    }
   ],
   "source": [
    "X_normal = pca.transform(normalData)\n",
    "X_anomal = pca.transform(anomalData)\n",
    "fontsize = 18\n",
    "\n",
    "plt.figure(figsize=(14,6))\n",
    "plt.scatter(X_normal[:,0], X_normal[:,1], label=\"normal\")\n",
    "plt.scatter(X_anomal[:,0], X_anomal[:,1], label=\"anomal\")\n",
    "plt.title(\"PCA Scatter Plot for the first two Principle Components\", fontsize=fontsize)\n",
    "plt.xlabel('Principle Component 1', fontsize=fontsize)\n",
    "plt.ylabel('Principle Component 2', fontsize=fontsize)\n",
    "plt.xticks(fontsize=fontsize)\n",
    "plt.yticks(fontsize=fontsize)\n",
    "plt.legend(loc=\"lower right\", prop={'size': 18})\n",
    "plt.show()"
   ]
  },
  {
   "cell_type": "markdown",
   "metadata": {},
   "source": [
    "**The suspection from the first PCA plot, that the anomal datapoints are most likely on the right half plane and somewhere around the dense cluster center at (0,0),  can be confirmed. In this case, the blue and very dense datapoints are representing normal datapoint according to the IsolationForest. The orange datapoints show outliers.**"
   ]
  },
  {
   "cell_type": "markdown",
   "metadata": {},
   "source": [
    "---\n",
    "\n",
    "# In-depth investigation of the original data with all features\n",
    "The original data is sliced by using the indices of the anomal datapoints obtained by the IsolationForest"
   ]
  },
  {
   "cell_type": "code",
   "execution_count": 36,
   "metadata": {
    "scrolled": true
   },
   "outputs": [
    {
     "name": "stdout",
     "output_type": "stream",
     "text": [
      "Shape:  (7310, 20)\n"
     ]
    },
    {
     "data": {
      "text/html": [
       "<div>\n",
       "<style scoped>\n",
       "    .dataframe tbody tr th:only-of-type {\n",
       "        vertical-align: middle;\n",
       "    }\n",
       "\n",
       "    .dataframe tbody tr th {\n",
       "        vertical-align: top;\n",
       "    }\n",
       "\n",
       "    .dataframe thead th {\n",
       "        text-align: right;\n",
       "    }\n",
       "</style>\n",
       "<table border=\"1\" class=\"dataframe\">\n",
       "  <thead>\n",
       "    <tr style=\"text-align: right;\">\n",
       "      <th></th>\n",
       "      <th>trainNumber</th>\n",
       "      <th>departureDate</th>\n",
       "      <th>operatorUICCode</th>\n",
       "      <th>operatorShortCode</th>\n",
       "      <th>trainType</th>\n",
       "      <th>trainCategory</th>\n",
       "      <th>commuterLineID</th>\n",
       "      <th>runningCurrently</th>\n",
       "      <th>cancelled</th>\n",
       "      <th>version</th>\n",
       "      <th>timetableType</th>\n",
       "      <th>timetableAcceptanceDate</th>\n",
       "      <th>timeTableRows</th>\n",
       "      <th>numStations</th>\n",
       "      <th>totalDelay</th>\n",
       "      <th>crossCountry</th>\n",
       "      <th>totalTime (minutes)</th>\n",
       "      <th>totalStops</th>\n",
       "      <th>cancelled2</th>\n",
       "      <th>causes</th>\n",
       "    </tr>\n",
       "  </thead>\n",
       "  <tbody>\n",
       "    <tr>\n",
       "      <th>0</th>\n",
       "      <td>1</td>\n",
       "      <td>2021-01-01</td>\n",
       "      <td>10</td>\n",
       "      <td>vr</td>\n",
       "      <td>IC</td>\n",
       "      <td>Long-distance</td>\n",
       "      <td></td>\n",
       "      <td>False</td>\n",
       "      <td>False</td>\n",
       "      <td>276359363267</td>\n",
       "      <td>REGULAR</td>\n",
       "      <td>2020-11-06T10:17:00.000Z</td>\n",
       "      <td>[{'stationShortCode': 'HKI', 'stationUICCode':...</td>\n",
       "      <td>67</td>\n",
       "      <td>-4.0</td>\n",
       "      <td>False</td>\n",
       "      <td>277.816667</td>\n",
       "      <td>12</td>\n",
       "      <td>False</td>\n",
       "      <td>[]</td>\n",
       "    </tr>\n",
       "    <tr>\n",
       "      <th>1</th>\n",
       "      <td>3</td>\n",
       "      <td>2021-01-01</td>\n",
       "      <td>10</td>\n",
       "      <td>vr</td>\n",
       "      <td>IC</td>\n",
       "      <td>Long-distance</td>\n",
       "      <td></td>\n",
       "      <td>False</td>\n",
       "      <td>False</td>\n",
       "      <td>276361055203</td>\n",
       "      <td>REGULAR</td>\n",
       "      <td>2020-08-20T10:15:10.000Z</td>\n",
       "      <td>[{'stationShortCode': 'HKI', 'stationUICCode':...</td>\n",
       "      <td>67</td>\n",
       "      <td>-5.0</td>\n",
       "      <td>False</td>\n",
       "      <td>264.600000</td>\n",
       "      <td>11</td>\n",
       "      <td>False</td>\n",
       "      <td>[]</td>\n",
       "    </tr>\n",
       "    <tr>\n",
       "      <th>3</th>\n",
       "      <td>5</td>\n",
       "      <td>2021-01-01</td>\n",
       "      <td>10</td>\n",
       "      <td>vr</td>\n",
       "      <td>IC</td>\n",
       "      <td>Long-distance</td>\n",
       "      <td></td>\n",
       "      <td>False</td>\n",
       "      <td>False</td>\n",
       "      <td>276362756815</td>\n",
       "      <td>REGULAR</td>\n",
       "      <td>2020-11-06T10:17:00.000Z</td>\n",
       "      <td>[{'stationShortCode': 'HKI', 'stationUICCode':...</td>\n",
       "      <td>67</td>\n",
       "      <td>-6.0</td>\n",
       "      <td>False</td>\n",
       "      <td>263.833333</td>\n",
       "      <td>11</td>\n",
       "      <td>False</td>\n",
       "      <td>[]</td>\n",
       "    </tr>\n",
       "    <tr>\n",
       "      <th>4</th>\n",
       "      <td>6</td>\n",
       "      <td>2021-01-01</td>\n",
       "      <td>10</td>\n",
       "      <td>vr</td>\n",
       "      <td>IC</td>\n",
       "      <td>Long-distance</td>\n",
       "      <td></td>\n",
       "      <td>False</td>\n",
       "      <td>False</td>\n",
       "      <td>276360446435</td>\n",
       "      <td>REGULAR</td>\n",
       "      <td>2020-11-06T10:17:00.000Z</td>\n",
       "      <td>[{'stationShortCode': 'JNS', 'stationUICCode':...</td>\n",
       "      <td>67</td>\n",
       "      <td>2.0</td>\n",
       "      <td>False</td>\n",
       "      <td>278.566667</td>\n",
       "      <td>12</td>\n",
       "      <td>False</td>\n",
       "      <td>[]</td>\n",
       "    </tr>\n",
       "    <tr>\n",
       "      <th>7</th>\n",
       "      <td>9</td>\n",
       "      <td>2021-01-01</td>\n",
       "      <td>10</td>\n",
       "      <td>vr</td>\n",
       "      <td>IC</td>\n",
       "      <td>Long-distance</td>\n",
       "      <td></td>\n",
       "      <td>False</td>\n",
       "      <td>False</td>\n",
       "      <td>276605740047</td>\n",
       "      <td>REGULAR</td>\n",
       "      <td>2020-11-06T10:17:00.000Z</td>\n",
       "      <td>[{'stationShortCode': 'HKI', 'stationUICCode':...</td>\n",
       "      <td>67</td>\n",
       "      <td>-5.0</td>\n",
       "      <td>False</td>\n",
       "      <td>272.000000</td>\n",
       "      <td>12</td>\n",
       "      <td>False</td>\n",
       "      <td>[{'categoryCode': 'L', 'detailedCategoryCode':...</td>\n",
       "    </tr>\n",
       "  </tbody>\n",
       "</table>\n",
       "</div>"
      ],
      "text/plain": [
       "   trainNumber departureDate  operatorUICCode operatorShortCode trainType  \\\n",
       "0            1    2021-01-01               10                vr        IC   \n",
       "1            3    2021-01-01               10                vr        IC   \n",
       "3            5    2021-01-01               10                vr        IC   \n",
       "4            6    2021-01-01               10                vr        IC   \n",
       "7            9    2021-01-01               10                vr        IC   \n",
       "\n",
       "   trainCategory commuterLineID  runningCurrently  cancelled       version  \\\n",
       "0  Long-distance                            False      False  276359363267   \n",
       "1  Long-distance                            False      False  276361055203   \n",
       "3  Long-distance                            False      False  276362756815   \n",
       "4  Long-distance                            False      False  276360446435   \n",
       "7  Long-distance                            False      False  276605740047   \n",
       "\n",
       "  timetableType   timetableAcceptanceDate  \\\n",
       "0       REGULAR  2020-11-06T10:17:00.000Z   \n",
       "1       REGULAR  2020-08-20T10:15:10.000Z   \n",
       "3       REGULAR  2020-11-06T10:17:00.000Z   \n",
       "4       REGULAR  2020-11-06T10:17:00.000Z   \n",
       "7       REGULAR  2020-11-06T10:17:00.000Z   \n",
       "\n",
       "                                       timeTableRows  numStations  totalDelay  \\\n",
       "0  [{'stationShortCode': 'HKI', 'stationUICCode':...           67        -4.0   \n",
       "1  [{'stationShortCode': 'HKI', 'stationUICCode':...           67        -5.0   \n",
       "3  [{'stationShortCode': 'HKI', 'stationUICCode':...           67        -6.0   \n",
       "4  [{'stationShortCode': 'JNS', 'stationUICCode':...           67         2.0   \n",
       "7  [{'stationShortCode': 'HKI', 'stationUICCode':...           67        -5.0   \n",
       "\n",
       "   crossCountry  totalTime (minutes)  totalStops  cancelled2  \\\n",
       "0         False           277.816667          12       False   \n",
       "1         False           264.600000          11       False   \n",
       "3         False           263.833333          11       False   \n",
       "4         False           278.566667          12       False   \n",
       "7         False           272.000000          12       False   \n",
       "\n",
       "                                              causes  \n",
       "0                                                 []  \n",
       "1                                                 []  \n",
       "3                                                 []  \n",
       "4                                                 []  \n",
       "7  [{'categoryCode': 'L', 'detailedCategoryCode':...  "
      ]
     },
     "execution_count": 36,
     "metadata": {},
     "output_type": "execute_result"
    }
   ],
   "source": [
    "data_anomal = data.iloc[anomal_index]\n",
    "print(\"Shape: \", data_anomal.shape)\n",
    "data_anomal.head()"
   ]
  },
  {
   "cell_type": "code",
   "execution_count": 37,
   "metadata": {},
   "outputs": [
    {
     "data": {
      "image/png": "[encoded data removed]",
      "text/plain": [
       "<Figure size 1008x432 with 1 Axes>"
      ]
     },
     "metadata": {},
     "output_type": "display_data"
    }
   ],
   "source": [
    "plt.figure(figsize=(14,6))\n",
    "ax = data_anomal['operatorShortCode'].value_counts().plot(kind='bar')\n",
    "ax.set(yscale=\"log\")\n",
    "plt.title(\"Operator Statistic (Caution: y-axis is logarithmic)\", fontsize=fontsize)\n",
    "plt.xlabel('Operator Short Code', fontsize=fontsize)\n",
    "plt.ylabel('Number of Occurance', fontsize=fontsize)\n",
    "plt.xticks(fontsize=fontsize)\n",
    "plt.yticks(fontsize=fontsize)\n",
    "plt.show()"
   ]
  },
  {
   "cell_type": "code",
   "execution_count": 38,
   "metadata": {},
   "outputs": [
    {
     "data": {
      "image/png": "[encoded data removed]",
      "text/plain": [
       "<Figure size 1008x432 with 1 Axes>"
      ]
     },
     "metadata": {},
     "output_type": "display_data"
    }
   ],
   "source": [
    "plt.figure(figsize=(14,6))\n",
    "ax = data_anomal['trainType'].value_counts().plot(kind='bar')\n",
    "#ax.set(yscale=\"log\")\n",
    "plt.title(\"Train Type Statistic\", fontsize=fontsize)\n",
    "plt.xlabel('Train Type', fontsize=fontsize)\n",
    "plt.ylabel('Number of Occurance', fontsize=fontsize)\n",
    "plt.xticks(fontsize=fontsize)\n",
    "plt.yticks(fontsize=fontsize)\n",
    "plt.show()"
   ]
  },
  {
   "cell_type": "code",
   "execution_count": 39,
   "metadata": {},
   "outputs": [
    {
     "data": {
      "image/png": "[encoded data removed]",
      "text/plain": [
       "<Figure size 1008x432 with 1 Axes>"
      ]
     },
     "metadata": {},
     "output_type": "display_data"
    }
   ],
   "source": [
    "plt.figure(figsize=(14,6))\n",
    "ax = data_anomal['trainCategory'].value_counts().plot(kind='bar')\n",
    "#ax.set(yscale=\"log\")\n",
    "plt.title(\"Train Category Statistic\", fontsize=fontsize)\n",
    "plt.xlabel('Train Category', fontsize=fontsize)\n",
    "plt.ylabel('Number of Occurance', fontsize=fontsize)\n",
    "plt.xticks(fontsize=fontsize)\n",
    "plt.yticks(fontsize=fontsize)\n",
    "plt.show()"
   ]
  },
  {
   "cell_type": "markdown",
   "metadata": {},
   "source": [
    "**From the three bar plots above, it can be seen that the operator \"vr\", the train type \"HL\" and the train category \"Commuter\" are often concerned to be anomal. As a consequence, those specific observations are investigated in more detail.**"
   ]
  },
  {
   "cell_type": "markdown",
   "metadata": {},
   "source": [
    "---\n",
    "\n",
    "# Operator \"vr\""
   ]
  },
  {
   "cell_type": "code",
   "execution_count": 40,
   "metadata": {},
   "outputs": [
    {
     "name": "stdout",
     "output_type": "stream",
     "text": [
      "Shape:  (7203, 20)\n"
     ]
    },
    {
     "data": {
      "text/html": [
       "<div>\n",
       "<style scoped>\n",
       "    .dataframe tbody tr th:only-of-type {\n",
       "        vertical-align: middle;\n",
       "    }\n",
       "\n",
       "    .dataframe tbody tr th {\n",
       "        vertical-align: top;\n",
       "    }\n",
       "\n",
       "    .dataframe thead th {\n",
       "        text-align: right;\n",
       "    }\n",
       "</style>\n",
       "<table border=\"1\" class=\"dataframe\">\n",
       "  <thead>\n",
       "    <tr style=\"text-align: right;\">\n",
       "      <th></th>\n",
       "      <th>trainNumber</th>\n",
       "      <th>departureDate</th>\n",
       "      <th>operatorUICCode</th>\n",
       "      <th>operatorShortCode</th>\n",
       "      <th>trainType</th>\n",
       "      <th>trainCategory</th>\n",
       "      <th>commuterLineID</th>\n",
       "      <th>runningCurrently</th>\n",
       "      <th>cancelled</th>\n",
       "      <th>version</th>\n",
       "      <th>timetableType</th>\n",
       "      <th>timetableAcceptanceDate</th>\n",
       "      <th>timeTableRows</th>\n",
       "      <th>numStations</th>\n",
       "      <th>totalDelay</th>\n",
       "      <th>crossCountry</th>\n",
       "      <th>totalTime (minutes)</th>\n",
       "      <th>totalStops</th>\n",
       "      <th>cancelled2</th>\n",
       "      <th>causes</th>\n",
       "    </tr>\n",
       "  </thead>\n",
       "  <tbody>\n",
       "    <tr>\n",
       "      <th>0</th>\n",
       "      <td>1</td>\n",
       "      <td>2021-01-01</td>\n",
       "      <td>10</td>\n",
       "      <td>vr</td>\n",
       "      <td>IC</td>\n",
       "      <td>Long-distance</td>\n",
       "      <td></td>\n",
       "      <td>False</td>\n",
       "      <td>False</td>\n",
       "      <td>276359363267</td>\n",
       "      <td>REGULAR</td>\n",
       "      <td>2020-11-06T10:17:00.000Z</td>\n",
       "      <td>[{'stationShortCode': 'HKI', 'stationUICCode':...</td>\n",
       "      <td>67</td>\n",
       "      <td>-4.0</td>\n",
       "      <td>False</td>\n",
       "      <td>277.816667</td>\n",
       "      <td>12</td>\n",
       "      <td>False</td>\n",
       "      <td>[]</td>\n",
       "    </tr>\n",
       "    <tr>\n",
       "      <th>1</th>\n",
       "      <td>3</td>\n",
       "      <td>2021-01-01</td>\n",
       "      <td>10</td>\n",
       "      <td>vr</td>\n",
       "      <td>IC</td>\n",
       "      <td>Long-distance</td>\n",
       "      <td></td>\n",
       "      <td>False</td>\n",
       "      <td>False</td>\n",
       "      <td>276361055203</td>\n",
       "      <td>REGULAR</td>\n",
       "      <td>2020-08-20T10:15:10.000Z</td>\n",
       "      <td>[{'stationShortCode': 'HKI', 'stationUICCode':...</td>\n",
       "      <td>67</td>\n",
       "      <td>-5.0</td>\n",
       "      <td>False</td>\n",
       "      <td>264.600000</td>\n",
       "      <td>11</td>\n",
       "      <td>False</td>\n",
       "      <td>[]</td>\n",
       "    </tr>\n",
       "    <tr>\n",
       "      <th>3</th>\n",
       "      <td>5</td>\n",
       "      <td>2021-01-01</td>\n",
       "      <td>10</td>\n",
       "      <td>vr</td>\n",
       "      <td>IC</td>\n",
       "      <td>Long-distance</td>\n",
       "      <td></td>\n",
       "      <td>False</td>\n",
       "      <td>False</td>\n",
       "      <td>276362756815</td>\n",
       "      <td>REGULAR</td>\n",
       "      <td>2020-11-06T10:17:00.000Z</td>\n",
       "      <td>[{'stationShortCode': 'HKI', 'stationUICCode':...</td>\n",
       "      <td>67</td>\n",
       "      <td>-6.0</td>\n",
       "      <td>False</td>\n",
       "      <td>263.833333</td>\n",
       "      <td>11</td>\n",
       "      <td>False</td>\n",
       "      <td>[]</td>\n",
       "    </tr>\n",
       "    <tr>\n",
       "      <th>4</th>\n",
       "      <td>6</td>\n",
       "      <td>2021-01-01</td>\n",
       "      <td>10</td>\n",
       "      <td>vr</td>\n",
       "      <td>IC</td>\n",
       "      <td>Long-distance</td>\n",
       "      <td></td>\n",
       "      <td>False</td>\n",
       "      <td>False</td>\n",
       "      <td>276360446435</td>\n",
       "      <td>REGULAR</td>\n",
       "      <td>2020-11-06T10:17:00.000Z</td>\n",
       "      <td>[{'stationShortCode': 'JNS', 'stationUICCode':...</td>\n",
       "      <td>67</td>\n",
       "      <td>2.0</td>\n",
       "      <td>False</td>\n",
       "      <td>278.566667</td>\n",
       "      <td>12</td>\n",
       "      <td>False</td>\n",
       "      <td>[]</td>\n",
       "    </tr>\n",
       "    <tr>\n",
       "      <th>7</th>\n",
       "      <td>9</td>\n",
       "      <td>2021-01-01</td>\n",
       "      <td>10</td>\n",
       "      <td>vr</td>\n",
       "      <td>IC</td>\n",
       "      <td>Long-distance</td>\n",
       "      <td></td>\n",
       "      <td>False</td>\n",
       "      <td>False</td>\n",
       "      <td>276605740047</td>\n",
       "      <td>REGULAR</td>\n",
       "      <td>2020-11-06T10:17:00.000Z</td>\n",
       "      <td>[{'stationShortCode': 'HKI', 'stationUICCode':...</td>\n",
       "      <td>67</td>\n",
       "      <td>-5.0</td>\n",
       "      <td>False</td>\n",
       "      <td>272.000000</td>\n",
       "      <td>12</td>\n",
       "      <td>False</td>\n",
       "      <td>[{'categoryCode': 'L', 'detailedCategoryCode':...</td>\n",
       "    </tr>\n",
       "  </tbody>\n",
       "</table>\n",
       "</div>"
      ],
      "text/plain": [
       "   trainNumber departureDate  operatorUICCode operatorShortCode trainType  \\\n",
       "0            1    2021-01-01               10                vr        IC   \n",
       "1            3    2021-01-01               10                vr        IC   \n",
       "3            5    2021-01-01               10                vr        IC   \n",
       "4            6    2021-01-01               10                vr        IC   \n",
       "7            9    2021-01-01               10                vr        IC   \n",
       "\n",
       "   trainCategory commuterLineID  runningCurrently  cancelled       version  \\\n",
       "0  Long-distance                            False      False  276359363267   \n",
       "1  Long-distance                            False      False  276361055203   \n",
       "3  Long-distance                            False      False  276362756815   \n",
       "4  Long-distance                            False      False  276360446435   \n",
       "7  Long-distance                            False      False  276605740047   \n",
       "\n",
       "  timetableType   timetableAcceptanceDate  \\\n",
       "0       REGULAR  2020-11-06T10:17:00.000Z   \n",
       "1       REGULAR  2020-08-20T10:15:10.000Z   \n",
       "3       REGULAR  2020-11-06T10:17:00.000Z   \n",
       "4       REGULAR  2020-11-06T10:17:00.000Z   \n",
       "7       REGULAR  2020-11-06T10:17:00.000Z   \n",
       "\n",
       "                                       timeTableRows  numStations  totalDelay  \\\n",
       "0  [{'stationShortCode': 'HKI', 'stationUICCode':...           67        -4.0   \n",
       "1  [{'stationShortCode': 'HKI', 'stationUICCode':...           67        -5.0   \n",
       "3  [{'stationShortCode': 'HKI', 'stationUICCode':...           67        -6.0   \n",
       "4  [{'stationShortCode': 'JNS', 'stationUICCode':...           67         2.0   \n",
       "7  [{'stationShortCode': 'HKI', 'stationUICCode':...           67        -5.0   \n",
       "\n",
       "   crossCountry  totalTime (minutes)  totalStops  cancelled2  \\\n",
       "0         False           277.816667          12       False   \n",
       "1         False           264.600000          11       False   \n",
       "3         False           263.833333          11       False   \n",
       "4         False           278.566667          12       False   \n",
       "7         False           272.000000          12       False   \n",
       "\n",
       "                                              causes  \n",
       "0                                                 []  \n",
       "1                                                 []  \n",
       "3                                                 []  \n",
       "4                                                 []  \n",
       "7  [{'categoryCode': 'L', 'detailedCategoryCode':...  "
      ]
     },
     "execution_count": 40,
     "metadata": {},
     "output_type": "execute_result"
    }
   ],
   "source": [
    "vr = data_anomal[data_anomal['operatorShortCode'] == \"vr\"]\n",
    "print(\"Shape: \", vr.shape)\n",
    "vr.head()"
   ]
  },
  {
   "cell_type": "code",
   "execution_count": 41,
   "metadata": {},
   "outputs": [
    {
     "data": {
      "text/plain": [
       "False    7010\n",
       "True      193\n",
       "Name: crossCountry, dtype: int64"
      ]
     },
     "execution_count": 41,
     "metadata": {},
     "output_type": "execute_result"
    }
   ],
   "source": [
    "vr['crossCountry'].value_counts()"
   ]
  },
  {
   "cell_type": "code",
   "execution_count": 42,
   "metadata": {},
   "outputs": [
    {
     "name": "stdout",
     "output_type": "stream",
     "text": [
      "Number of total causes:  3316\n"
     ]
    },
    {
     "data": {
      "text/html": [
       "<div>\n",
       "<style scoped>\n",
       "    .dataframe tbody tr th:only-of-type {\n",
       "        vertical-align: middle;\n",
       "    }\n",
       "\n",
       "    .dataframe tbody tr th {\n",
       "        vertical-align: top;\n",
       "    }\n",
       "\n",
       "    .dataframe thead th {\n",
       "        text-align: right;\n",
       "    }\n",
       "</style>\n",
       "<table border=\"1\" class=\"dataframe\">\n",
       "  <thead>\n",
       "    <tr style=\"text-align: right;\">\n",
       "      <th></th>\n",
       "      <th>categoryCode</th>\n",
       "      <th>detailedCategoryCode</th>\n",
       "      <th>thirdCategoryCode</th>\n",
       "      <th>categoryCodeId</th>\n",
       "      <th>detailedCategoryCodeId</th>\n",
       "      <th>thirdCategoryCodeId</th>\n",
       "    </tr>\n",
       "  </thead>\n",
       "  <tbody>\n",
       "    <tr>\n",
       "      <th>0</th>\n",
       "      <td>L</td>\n",
       "      <td>L7</td>\n",
       "      <td>L703</td>\n",
       "      <td>27</td>\n",
       "      <td>186.0</td>\n",
       "      <td>388.0</td>\n",
       "    </tr>\n",
       "    <tr>\n",
       "      <th>1</th>\n",
       "      <td>P</td>\n",
       "      <td>P1</td>\n",
       "      <td>P117</td>\n",
       "      <td>28</td>\n",
       "      <td>151.0</td>\n",
       "      <td>270.0</td>\n",
       "    </tr>\n",
       "    <tr>\n",
       "      <th>2</th>\n",
       "      <td>M</td>\n",
       "      <td>M1</td>\n",
       "      <td>NaN</td>\n",
       "      <td>33</td>\n",
       "      <td>164.0</td>\n",
       "      <td>NaN</td>\n",
       "    </tr>\n",
       "    <tr>\n",
       "      <th>3</th>\n",
       "      <td>M</td>\n",
       "      <td>M1</td>\n",
       "      <td>NaN</td>\n",
       "      <td>33</td>\n",
       "      <td>164.0</td>\n",
       "      <td>NaN</td>\n",
       "    </tr>\n",
       "    <tr>\n",
       "      <th>4</th>\n",
       "      <td>L</td>\n",
       "      <td>L2</td>\n",
       "      <td>L201</td>\n",
       "      <td>27</td>\n",
       "      <td>101.0</td>\n",
       "      <td>90.0</td>\n",
       "    </tr>\n",
       "  </tbody>\n",
       "</table>\n",
       "</div>"
      ],
      "text/plain": [
       "  categoryCode detailedCategoryCode thirdCategoryCode  categoryCodeId  \\\n",
       "0            L                   L7              L703              27   \n",
       "1            P                   P1              P117              28   \n",
       "2            M                   M1               NaN              33   \n",
       "3            M                   M1               NaN              33   \n",
       "4            L                   L2              L201              27   \n",
       "\n",
       "   detailedCategoryCodeId  thirdCategoryCodeId  \n",
       "0                   186.0                388.0  \n",
       "1                   151.0                270.0  \n",
       "2                   164.0                  NaN  \n",
       "3                   164.0                  NaN  \n",
       "4                   101.0                 90.0  "
      ]
     },
     "execution_count": 42,
     "metadata": {},
     "output_type": "execute_result"
    }
   ],
   "source": [
    "causes = [val for sublist in vr['causes'] for val in sublist]\n",
    "causes = pd.DataFrame(causes)\n",
    "print(\"Number of total causes: \", causes.shape[0])\n",
    "causes.head()"
   ]
  },
  {
   "cell_type": "markdown",
   "metadata": {},
   "source": [
    "### Show top 3 Category Codes of causes:"
   ]
  },
  {
   "cell_type": "code",
   "execution_count": 43,
   "metadata": {
    "scrolled": true
   },
   "outputs": [
    {
     "name": "stdout",
     "output_type": "stream",
     "text": [
      "detailedCategoryCode: \n",
      " E2    1565\n",
      "E1     557\n",
      "L2     264\n",
      "Name: detailedCategoryCode, dtype: int64\n",
      "\n",
      "detailedCategoryCodeId: \n",
      " 148.0    1565\n",
      "98.0      557\n",
      "101.0     264\n",
      "Name: detailedCategoryCodeId, dtype: int64\n"
     ]
    }
   ],
   "source": [
    "print(\"detailedCategoryCode: \\n\", causes['detailedCategoryCode'].value_counts().iloc[0:3])\n",
    "print()\n",
    "print(\"detailedCategoryCodeId: \\n\", causes['detailedCategoryCodeId'].value_counts().iloc[0:3])"
   ]
  },
  {
   "cell_type": "markdown",
   "metadata": {},
   "source": [
    "**From that it can be seen, that the causes with the category code**\n",
    "\n",
    "1. E2 148\n",
    "2. E1 98\n",
    "3. L2 101\n",
    "\n",
    "**are the most often occuring for the operator \"vr\".**"
   ]
  },
  {
   "cell_type": "markdown",
   "metadata": {},
   "source": [
    "---\n",
    "\n",
    "# Train type \"HL\""
   ]
  },
  {
   "cell_type": "code",
   "execution_count": 44,
   "metadata": {
    "scrolled": true
   },
   "outputs": [
    {
     "name": "stdout",
     "output_type": "stream",
     "text": [
      "Shape:  (3608, 20)\n"
     ]
    },
    {
     "data": {
      "text/html": [
       "<div>\n",
       "<style scoped>\n",
       "    .dataframe tbody tr th:only-of-type {\n",
       "        vertical-align: middle;\n",
       "    }\n",
       "\n",
       "    .dataframe tbody tr th {\n",
       "        vertical-align: top;\n",
       "    }\n",
       "\n",
       "    .dataframe thead th {\n",
       "        text-align: right;\n",
       "    }\n",
       "</style>\n",
       "<table border=\"1\" class=\"dataframe\">\n",
       "  <thead>\n",
       "    <tr style=\"text-align: right;\">\n",
       "      <th></th>\n",
       "      <th>trainNumber</th>\n",
       "      <th>departureDate</th>\n",
       "      <th>operatorUICCode</th>\n",
       "      <th>operatorShortCode</th>\n",
       "      <th>trainType</th>\n",
       "      <th>trainCategory</th>\n",
       "      <th>commuterLineID</th>\n",
       "      <th>runningCurrently</th>\n",
       "      <th>cancelled</th>\n",
       "      <th>version</th>\n",
       "      <th>timetableType</th>\n",
       "      <th>timetableAcceptanceDate</th>\n",
       "      <th>timeTableRows</th>\n",
       "      <th>numStations</th>\n",
       "      <th>totalDelay</th>\n",
       "      <th>crossCountry</th>\n",
       "      <th>totalTime (minutes)</th>\n",
       "      <th>totalStops</th>\n",
       "      <th>cancelled2</th>\n",
       "      <th>causes</th>\n",
       "    </tr>\n",
       "  </thead>\n",
       "  <tbody>\n",
       "    <tr>\n",
       "      <th>541</th>\n",
       "      <td>8476</td>\n",
       "      <td>2021-01-01</td>\n",
       "      <td>10</td>\n",
       "      <td>vr</td>\n",
       "      <td>HL</td>\n",
       "      <td>Commuter</td>\n",
       "      <td>U</td>\n",
       "      <td>False</td>\n",
       "      <td>False</td>\n",
       "      <td>276362152988</td>\n",
       "      <td>REGULAR</td>\n",
       "      <td>2020-11-06T10:17:00.000Z</td>\n",
       "      <td>[{'stationShortCode': 'KKN', 'stationUICCode':...</td>\n",
       "      <td>21</td>\n",
       "      <td>0.0</td>\n",
       "      <td>False</td>\n",
       "      <td>40.350000</td>\n",
       "      <td>14</td>\n",
       "      <td>False</td>\n",
       "      <td>[]</td>\n",
       "    </tr>\n",
       "    <tr>\n",
       "      <th>561</th>\n",
       "      <td>8496</td>\n",
       "      <td>2021-01-01</td>\n",
       "      <td>10</td>\n",
       "      <td>vr</td>\n",
       "      <td>HL</td>\n",
       "      <td>Commuter</td>\n",
       "      <td>U</td>\n",
       "      <td>False</td>\n",
       "      <td>False</td>\n",
       "      <td>276365057402</td>\n",
       "      <td>REGULAR</td>\n",
       "      <td>2020-11-06T10:17:00.000Z</td>\n",
       "      <td>[{'stationShortCode': 'KKN', 'stationUICCode':...</td>\n",
       "      <td>21</td>\n",
       "      <td>-1.0</td>\n",
       "      <td>False</td>\n",
       "      <td>40.366667</td>\n",
       "      <td>14</td>\n",
       "      <td>False</td>\n",
       "      <td>[]</td>\n",
       "    </tr>\n",
       "    <tr>\n",
       "      <th>590</th>\n",
       "      <td>8614</td>\n",
       "      <td>2021-01-01</td>\n",
       "      <td>10</td>\n",
       "      <td>vr</td>\n",
       "      <td>HL</td>\n",
       "      <td>Commuter</td>\n",
       "      <td>P</td>\n",
       "      <td>False</td>\n",
       "      <td>False</td>\n",
       "      <td>276358040324</td>\n",
       "      <td>REGULAR</td>\n",
       "      <td>2020-11-06T10:17:00.000Z</td>\n",
       "      <td>[{'stationShortCode': 'HKI', 'stationUICCode':...</td>\n",
       "      <td>31</td>\n",
       "      <td>-1.0</td>\n",
       "      <td>False</td>\n",
       "      <td>61.900000</td>\n",
       "      <td>25</td>\n",
       "      <td>False</td>\n",
       "      <td>[]</td>\n",
       "    </tr>\n",
       "    <tr>\n",
       "      <th>605</th>\n",
       "      <td>8658</td>\n",
       "      <td>2021-01-01</td>\n",
       "      <td>10</td>\n",
       "      <td>vr</td>\n",
       "      <td>HL</td>\n",
       "      <td>Commuter</td>\n",
       "      <td>P</td>\n",
       "      <td>False</td>\n",
       "      <td>False</td>\n",
       "      <td>276360152030</td>\n",
       "      <td>REGULAR</td>\n",
       "      <td>2020-11-06T10:17:00.000Z</td>\n",
       "      <td>[{'stationShortCode': 'HKI', 'stationUICCode':...</td>\n",
       "      <td>31</td>\n",
       "      <td>-1.0</td>\n",
       "      <td>False</td>\n",
       "      <td>61.866667</td>\n",
       "      <td>25</td>\n",
       "      <td>False</td>\n",
       "      <td>[]</td>\n",
       "    </tr>\n",
       "    <tr>\n",
       "      <th>608</th>\n",
       "      <td>8664</td>\n",
       "      <td>2021-01-01</td>\n",
       "      <td>10</td>\n",
       "      <td>vr</td>\n",
       "      <td>HL</td>\n",
       "      <td>Commuter</td>\n",
       "      <td>P</td>\n",
       "      <td>False</td>\n",
       "      <td>False</td>\n",
       "      <td>276360534050</td>\n",
       "      <td>REGULAR</td>\n",
       "      <td>2020-11-06T10:17:00.000Z</td>\n",
       "      <td>[{'stationShortCode': 'HKI', 'stationUICCode':...</td>\n",
       "      <td>31</td>\n",
       "      <td>-1.0</td>\n",
       "      <td>False</td>\n",
       "      <td>62.200000</td>\n",
       "      <td>25</td>\n",
       "      <td>False</td>\n",
       "      <td>[]</td>\n",
       "    </tr>\n",
       "  </tbody>\n",
       "</table>\n",
       "</div>"
      ],
      "text/plain": [
       "     trainNumber departureDate  operatorUICCode operatorShortCode trainType  \\\n",
       "541         8476    2021-01-01               10                vr        HL   \n",
       "561         8496    2021-01-01               10                vr        HL   \n",
       "590         8614    2021-01-01               10                vr        HL   \n",
       "605         8658    2021-01-01               10                vr        HL   \n",
       "608         8664    2021-01-01               10                vr        HL   \n",
       "\n",
       "    trainCategory commuterLineID  runningCurrently  cancelled       version  \\\n",
       "541      Commuter              U             False      False  276362152988   \n",
       "561      Commuter              U             False      False  276365057402   \n",
       "590      Commuter              P             False      False  276358040324   \n",
       "605      Commuter              P             False      False  276360152030   \n",
       "608      Commuter              P             False      False  276360534050   \n",
       "\n",
       "    timetableType   timetableAcceptanceDate  \\\n",
       "541       REGULAR  2020-11-06T10:17:00.000Z   \n",
       "561       REGULAR  2020-11-06T10:17:00.000Z   \n",
       "590       REGULAR  2020-11-06T10:17:00.000Z   \n",
       "605       REGULAR  2020-11-06T10:17:00.000Z   \n",
       "608       REGULAR  2020-11-06T10:17:00.000Z   \n",
       "\n",
       "                                         timeTableRows  numStations  \\\n",
       "541  [{'stationShortCode': 'KKN', 'stationUICCode':...           21   \n",
       "561  [{'stationShortCode': 'KKN', 'stationUICCode':...           21   \n",
       "590  [{'stationShortCode': 'HKI', 'stationUICCode':...           31   \n",
       "605  [{'stationShortCode': 'HKI', 'stationUICCode':...           31   \n",
       "608  [{'stationShortCode': 'HKI', 'stationUICCode':...           31   \n",
       "\n",
       "     totalDelay  crossCountry  totalTime (minutes)  totalStops  cancelled2  \\\n",
       "541         0.0         False            40.350000          14       False   \n",
       "561        -1.0         False            40.366667          14       False   \n",
       "590        -1.0         False            61.900000          25       False   \n",
       "605        -1.0         False            61.866667          25       False   \n",
       "608        -1.0         False            62.200000          25       False   \n",
       "\n",
       "    causes  \n",
       "541     []  \n",
       "561     []  \n",
       "590     []  \n",
       "605     []  \n",
       "608     []  "
      ]
     },
     "execution_count": 44,
     "metadata": {},
     "output_type": "execute_result"
    }
   ],
   "source": [
    "hl = data_anomal[data_anomal['trainType'] == \"HL\"]\n",
    "print(\"Shape: \", hl.shape)\n",
    "hl.head()"
   ]
  },
  {
   "cell_type": "code",
   "execution_count": 45,
   "metadata": {},
   "outputs": [
    {
     "data": {
      "text/plain": [
       "False    3470\n",
       "True      138\n",
       "Name: crossCountry, dtype: int64"
      ]
     },
     "execution_count": 45,
     "metadata": {},
     "output_type": "execute_result"
    }
   ],
   "source": [
    "hl['crossCountry'].value_counts()"
   ]
  },
  {
   "cell_type": "code",
   "execution_count": 46,
   "metadata": {},
   "outputs": [
    {
     "name": "stdout",
     "output_type": "stream",
     "text": [
      "Number of total causes:  648\n"
     ]
    },
    {
     "data": {
      "text/html": [
       "<div>\n",
       "<style scoped>\n",
       "    .dataframe tbody tr th:only-of-type {\n",
       "        vertical-align: middle;\n",
       "    }\n",
       "\n",
       "    .dataframe tbody tr th {\n",
       "        vertical-align: top;\n",
       "    }\n",
       "\n",
       "    .dataframe thead th {\n",
       "        text-align: right;\n",
       "    }\n",
       "</style>\n",
       "<table border=\"1\" class=\"dataframe\">\n",
       "  <thead>\n",
       "    <tr style=\"text-align: right;\">\n",
       "      <th></th>\n",
       "      <th>categoryCode</th>\n",
       "      <th>detailedCategoryCode</th>\n",
       "      <th>thirdCategoryCode</th>\n",
       "      <th>categoryCodeId</th>\n",
       "      <th>detailedCategoryCodeId</th>\n",
       "      <th>thirdCategoryCodeId</th>\n",
       "    </tr>\n",
       "  </thead>\n",
       "  <tbody>\n",
       "    <tr>\n",
       "      <th>0</th>\n",
       "      <td>L</td>\n",
       "      <td>L2</td>\n",
       "      <td>L204</td>\n",
       "      <td>27</td>\n",
       "      <td>101.0</td>\n",
       "      <td>93.0</td>\n",
       "    </tr>\n",
       "    <tr>\n",
       "      <th>1</th>\n",
       "      <td>M</td>\n",
       "      <td>M1</td>\n",
       "      <td>NaN</td>\n",
       "      <td>33</td>\n",
       "      <td>164.0</td>\n",
       "      <td>NaN</td>\n",
       "    </tr>\n",
       "    <tr>\n",
       "      <th>2</th>\n",
       "      <td>M</td>\n",
       "      <td>M1</td>\n",
       "      <td>NaN</td>\n",
       "      <td>33</td>\n",
       "      <td>164.0</td>\n",
       "      <td>NaN</td>\n",
       "    </tr>\n",
       "    <tr>\n",
       "      <th>3</th>\n",
       "      <td>K</td>\n",
       "      <td>K2</td>\n",
       "      <td>NaN</td>\n",
       "      <td>23</td>\n",
       "      <td>184.0</td>\n",
       "      <td>NaN</td>\n",
       "    </tr>\n",
       "    <tr>\n",
       "      <th>4</th>\n",
       "      <td>L</td>\n",
       "      <td>L6</td>\n",
       "      <td>L601</td>\n",
       "      <td>27</td>\n",
       "      <td>149.0</td>\n",
       "      <td>241.0</td>\n",
       "    </tr>\n",
       "  </tbody>\n",
       "</table>\n",
       "</div>"
      ],
      "text/plain": [
       "  categoryCode detailedCategoryCode thirdCategoryCode  categoryCodeId  \\\n",
       "0            L                   L2              L204              27   \n",
       "1            M                   M1               NaN              33   \n",
       "2            M                   M1               NaN              33   \n",
       "3            K                   K2               NaN              23   \n",
       "4            L                   L6              L601              27   \n",
       "\n",
       "   detailedCategoryCodeId  thirdCategoryCodeId  \n",
       "0                   101.0                 93.0  \n",
       "1                   164.0                  NaN  \n",
       "2                   164.0                  NaN  \n",
       "3                   184.0                  NaN  \n",
       "4                   149.0                241.0  "
      ]
     },
     "execution_count": 46,
     "metadata": {},
     "output_type": "execute_result"
    }
   ],
   "source": [
    "causes = [val for sublist in hl['causes'] for val in sublist]\n",
    "causes = pd.DataFrame(causes)\n",
    "print(\"Number of total causes: \", causes.shape[0])\n",
    "causes.head()"
   ]
  },
  {
   "cell_type": "markdown",
   "metadata": {},
   "source": [
    "### Show top 3 Category Codes of causes:"
   ]
  },
  {
   "cell_type": "code",
   "execution_count": 47,
   "metadata": {},
   "outputs": [
    {
     "name": "stdout",
     "output_type": "stream",
     "text": [
      "detailedCategoryCode: \n",
      " E2    195\n",
      "E1    130\n",
      "M1     95\n",
      "Name: detailedCategoryCode, dtype: int64\n",
      "\n",
      "detailedCategoryCodeId: \n",
      " 148.0    195\n",
      "98.0     130\n",
      "164.0     95\n",
      "Name: detailedCategoryCodeId, dtype: int64\n"
     ]
    }
   ],
   "source": [
    "print(\"detailedCategoryCode: \\n\", causes['detailedCategoryCode'].value_counts().iloc[0:3])\n",
    "print()\n",
    "print(\"detailedCategoryCodeId: \\n\", causes['detailedCategoryCodeId'].value_counts().iloc[0:3])"
   ]
  },
  {
   "cell_type": "markdown",
   "metadata": {},
   "source": [
    "**From that it can be seen, that the causes with the category code**\n",
    "\n",
    "1. E2 148\n",
    "2. E1 98\n",
    "3. M1 164\n",
    "\n",
    "**are the most often occuring for the train type \"HL\".**"
   ]
  },
  {
   "cell_type": "markdown",
   "metadata": {},
   "source": [
    "---\n",
    "\n",
    "# Train category \"Commuter\""
   ]
  },
  {
   "cell_type": "code",
   "execution_count": 48,
   "metadata": {},
   "outputs": [
    {
     "name": "stdout",
     "output_type": "stream",
     "text": [
      "Shape:  (3659, 20)\n"
     ]
    },
    {
     "data": {
      "text/html": [
       "<div>\n",
       "<style scoped>\n",
       "    .dataframe tbody tr th:only-of-type {\n",
       "        vertical-align: middle;\n",
       "    }\n",
       "\n",
       "    .dataframe tbody tr th {\n",
       "        vertical-align: top;\n",
       "    }\n",
       "\n",
       "    .dataframe thead th {\n",
       "        text-align: right;\n",
       "    }\n",
       "</style>\n",
       "<table border=\"1\" class=\"dataframe\">\n",
       "  <thead>\n",
       "    <tr style=\"text-align: right;\">\n",
       "      <th></th>\n",
       "      <th>trainNumber</th>\n",
       "      <th>departureDate</th>\n",
       "      <th>operatorUICCode</th>\n",
       "      <th>operatorShortCode</th>\n",
       "      <th>trainType</th>\n",
       "      <th>trainCategory</th>\n",
       "      <th>commuterLineID</th>\n",
       "      <th>runningCurrently</th>\n",
       "      <th>cancelled</th>\n",
       "      <th>version</th>\n",
       "      <th>timetableType</th>\n",
       "      <th>timetableAcceptanceDate</th>\n",
       "      <th>timeTableRows</th>\n",
       "      <th>numStations</th>\n",
       "      <th>totalDelay</th>\n",
       "      <th>crossCountry</th>\n",
       "      <th>totalTime (minutes)</th>\n",
       "      <th>totalStops</th>\n",
       "      <th>cancelled2</th>\n",
       "      <th>causes</th>\n",
       "    </tr>\n",
       "  </thead>\n",
       "  <tbody>\n",
       "    <tr>\n",
       "      <th>541</th>\n",
       "      <td>8476</td>\n",
       "      <td>2021-01-01</td>\n",
       "      <td>10</td>\n",
       "      <td>vr</td>\n",
       "      <td>HL</td>\n",
       "      <td>Commuter</td>\n",
       "      <td>U</td>\n",
       "      <td>False</td>\n",
       "      <td>False</td>\n",
       "      <td>276362152988</td>\n",
       "      <td>REGULAR</td>\n",
       "      <td>2020-11-06T10:17:00.000Z</td>\n",
       "      <td>[{'stationShortCode': 'KKN', 'stationUICCode':...</td>\n",
       "      <td>21</td>\n",
       "      <td>0.0</td>\n",
       "      <td>False</td>\n",
       "      <td>40.350000</td>\n",
       "      <td>14</td>\n",
       "      <td>False</td>\n",
       "      <td>[]</td>\n",
       "    </tr>\n",
       "    <tr>\n",
       "      <th>561</th>\n",
       "      <td>8496</td>\n",
       "      <td>2021-01-01</td>\n",
       "      <td>10</td>\n",
       "      <td>vr</td>\n",
       "      <td>HL</td>\n",
       "      <td>Commuter</td>\n",
       "      <td>U</td>\n",
       "      <td>False</td>\n",
       "      <td>False</td>\n",
       "      <td>276365057402</td>\n",
       "      <td>REGULAR</td>\n",
       "      <td>2020-11-06T10:17:00.000Z</td>\n",
       "      <td>[{'stationShortCode': 'KKN', 'stationUICCode':...</td>\n",
       "      <td>21</td>\n",
       "      <td>-1.0</td>\n",
       "      <td>False</td>\n",
       "      <td>40.366667</td>\n",
       "      <td>14</td>\n",
       "      <td>False</td>\n",
       "      <td>[]</td>\n",
       "    </tr>\n",
       "    <tr>\n",
       "      <th>590</th>\n",
       "      <td>8614</td>\n",
       "      <td>2021-01-01</td>\n",
       "      <td>10</td>\n",
       "      <td>vr</td>\n",
       "      <td>HL</td>\n",
       "      <td>Commuter</td>\n",
       "      <td>P</td>\n",
       "      <td>False</td>\n",
       "      <td>False</td>\n",
       "      <td>276358040324</td>\n",
       "      <td>REGULAR</td>\n",
       "      <td>2020-11-06T10:17:00.000Z</td>\n",
       "      <td>[{'stationShortCode': 'HKI', 'stationUICCode':...</td>\n",
       "      <td>31</td>\n",
       "      <td>-1.0</td>\n",
       "      <td>False</td>\n",
       "      <td>61.900000</td>\n",
       "      <td>25</td>\n",
       "      <td>False</td>\n",
       "      <td>[]</td>\n",
       "    </tr>\n",
       "    <tr>\n",
       "      <th>605</th>\n",
       "      <td>8658</td>\n",
       "      <td>2021-01-01</td>\n",
       "      <td>10</td>\n",
       "      <td>vr</td>\n",
       "      <td>HL</td>\n",
       "      <td>Commuter</td>\n",
       "      <td>P</td>\n",
       "      <td>False</td>\n",
       "      <td>False</td>\n",
       "      <td>276360152030</td>\n",
       "      <td>REGULAR</td>\n",
       "      <td>2020-11-06T10:17:00.000Z</td>\n",
       "      <td>[{'stationShortCode': 'HKI', 'stationUICCode':...</td>\n",
       "      <td>31</td>\n",
       "      <td>-1.0</td>\n",
       "      <td>False</td>\n",
       "      <td>61.866667</td>\n",
       "      <td>25</td>\n",
       "      <td>False</td>\n",
       "      <td>[]</td>\n",
       "    </tr>\n",
       "    <tr>\n",
       "      <th>608</th>\n",
       "      <td>8664</td>\n",
       "      <td>2021-01-01</td>\n",
       "      <td>10</td>\n",
       "      <td>vr</td>\n",
       "      <td>HL</td>\n",
       "      <td>Commuter</td>\n",
       "      <td>P</td>\n",
       "      <td>False</td>\n",
       "      <td>False</td>\n",
       "      <td>276360534050</td>\n",
       "      <td>REGULAR</td>\n",
       "      <td>2020-11-06T10:17:00.000Z</td>\n",
       "      <td>[{'stationShortCode': 'HKI', 'stationUICCode':...</td>\n",
       "      <td>31</td>\n",
       "      <td>-1.0</td>\n",
       "      <td>False</td>\n",
       "      <td>62.200000</td>\n",
       "      <td>25</td>\n",
       "      <td>False</td>\n",
       "      <td>[]</td>\n",
       "    </tr>\n",
       "  </tbody>\n",
       "</table>\n",
       "</div>"
      ],
      "text/plain": [
       "     trainNumber departureDate  operatorUICCode operatorShortCode trainType  \\\n",
       "541         8476    2021-01-01               10                vr        HL   \n",
       "561         8496    2021-01-01               10                vr        HL   \n",
       "590         8614    2021-01-01               10                vr        HL   \n",
       "605         8658    2021-01-01               10                vr        HL   \n",
       "608         8664    2021-01-01               10                vr        HL   \n",
       "\n",
       "    trainCategory commuterLineID  runningCurrently  cancelled       version  \\\n",
       "541      Commuter              U             False      False  276362152988   \n",
       "561      Commuter              U             False      False  276365057402   \n",
       "590      Commuter              P             False      False  276358040324   \n",
       "605      Commuter              P             False      False  276360152030   \n",
       "608      Commuter              P             False      False  276360534050   \n",
       "\n",
       "    timetableType   timetableAcceptanceDate  \\\n",
       "541       REGULAR  2020-11-06T10:17:00.000Z   \n",
       "561       REGULAR  2020-11-06T10:17:00.000Z   \n",
       "590       REGULAR  2020-11-06T10:17:00.000Z   \n",
       "605       REGULAR  2020-11-06T10:17:00.000Z   \n",
       "608       REGULAR  2020-11-06T10:17:00.000Z   \n",
       "\n",
       "                                         timeTableRows  numStations  \\\n",
       "541  [{'stationShortCode': 'KKN', 'stationUICCode':...           21   \n",
       "561  [{'stationShortCode': 'KKN', 'stationUICCode':...           21   \n",
       "590  [{'stationShortCode': 'HKI', 'stationUICCode':...           31   \n",
       "605  [{'stationShortCode': 'HKI', 'stationUICCode':...           31   \n",
       "608  [{'stationShortCode': 'HKI', 'stationUICCode':...           31   \n",
       "\n",
       "     totalDelay  crossCountry  totalTime (minutes)  totalStops  cancelled2  \\\n",
       "541         0.0         False            40.350000          14       False   \n",
       "561        -1.0         False            40.366667          14       False   \n",
       "590        -1.0         False            61.900000          25       False   \n",
       "605        -1.0         False            61.866667          25       False   \n",
       "608        -1.0         False            62.200000          25       False   \n",
       "\n",
       "    causes  \n",
       "541     []  \n",
       "561     []  \n",
       "590     []  \n",
       "605     []  \n",
       "608     []  "
      ]
     },
     "execution_count": 48,
     "metadata": {},
     "output_type": "execute_result"
    }
   ],
   "source": [
    "commuter = data_anomal[data_anomal['trainCategory'] == \"Commuter\"]\n",
    "print(\"Shape: \", commuter.shape)\n",
    "commuter.head()"
   ]
  },
  {
   "cell_type": "code",
   "execution_count": 49,
   "metadata": {},
   "outputs": [
    {
     "data": {
      "text/plain": [
       "False    3521\n",
       "True      138\n",
       "Name: crossCountry, dtype: int64"
      ]
     },
     "execution_count": 49,
     "metadata": {},
     "output_type": "execute_result"
    }
   ],
   "source": [
    "commuter['crossCountry'].value_counts()"
   ]
  },
  {
   "cell_type": "code",
   "execution_count": 50,
   "metadata": {},
   "outputs": [
    {
     "name": "stdout",
     "output_type": "stream",
     "text": [
      "Number of total causes:  667\n"
     ]
    },
    {
     "data": {
      "text/html": [
       "<div>\n",
       "<style scoped>\n",
       "    .dataframe tbody tr th:only-of-type {\n",
       "        vertical-align: middle;\n",
       "    }\n",
       "\n",
       "    .dataframe tbody tr th {\n",
       "        vertical-align: top;\n",
       "    }\n",
       "\n",
       "    .dataframe thead th {\n",
       "        text-align: right;\n",
       "    }\n",
       "</style>\n",
       "<table border=\"1\" class=\"dataframe\">\n",
       "  <thead>\n",
       "    <tr style=\"text-align: right;\">\n",
       "      <th></th>\n",
       "      <th>categoryCode</th>\n",
       "      <th>detailedCategoryCode</th>\n",
       "      <th>thirdCategoryCode</th>\n",
       "      <th>categoryCodeId</th>\n",
       "      <th>detailedCategoryCodeId</th>\n",
       "      <th>thirdCategoryCodeId</th>\n",
       "    </tr>\n",
       "  </thead>\n",
       "  <tbody>\n",
       "    <tr>\n",
       "      <th>0</th>\n",
       "      <td>L</td>\n",
       "      <td>L2</td>\n",
       "      <td>L204</td>\n",
       "      <td>27</td>\n",
       "      <td>101.0</td>\n",
       "      <td>93.0</td>\n",
       "    </tr>\n",
       "    <tr>\n",
       "      <th>1</th>\n",
       "      <td>M</td>\n",
       "      <td>M1</td>\n",
       "      <td>NaN</td>\n",
       "      <td>33</td>\n",
       "      <td>164.0</td>\n",
       "      <td>NaN</td>\n",
       "    </tr>\n",
       "    <tr>\n",
       "      <th>2</th>\n",
       "      <td>M</td>\n",
       "      <td>M1</td>\n",
       "      <td>NaN</td>\n",
       "      <td>33</td>\n",
       "      <td>164.0</td>\n",
       "      <td>NaN</td>\n",
       "    </tr>\n",
       "    <tr>\n",
       "      <th>3</th>\n",
       "      <td>K</td>\n",
       "      <td>K2</td>\n",
       "      <td>NaN</td>\n",
       "      <td>23</td>\n",
       "      <td>184.0</td>\n",
       "      <td>NaN</td>\n",
       "    </tr>\n",
       "    <tr>\n",
       "      <th>4</th>\n",
       "      <td>L</td>\n",
       "      <td>L6</td>\n",
       "      <td>L601</td>\n",
       "      <td>27</td>\n",
       "      <td>149.0</td>\n",
       "      <td>241.0</td>\n",
       "    </tr>\n",
       "  </tbody>\n",
       "</table>\n",
       "</div>"
      ],
      "text/plain": [
       "  categoryCode detailedCategoryCode thirdCategoryCode  categoryCodeId  \\\n",
       "0            L                   L2              L204              27   \n",
       "1            M                   M1               NaN              33   \n",
       "2            M                   M1               NaN              33   \n",
       "3            K                   K2               NaN              23   \n",
       "4            L                   L6              L601              27   \n",
       "\n",
       "   detailedCategoryCodeId  thirdCategoryCodeId  \n",
       "0                   101.0                 93.0  \n",
       "1                   164.0                  NaN  \n",
       "2                   164.0                  NaN  \n",
       "3                   184.0                  NaN  \n",
       "4                   149.0                241.0  "
      ]
     },
     "execution_count": 50,
     "metadata": {},
     "output_type": "execute_result"
    }
   ],
   "source": [
    "causes = [val for sublist in commuter['causes'] for val in sublist]\n",
    "causes = pd.DataFrame(causes)\n",
    "print(\"Number of total causes: \", causes.shape[0])\n",
    "causes.head()"
   ]
  },
  {
   "cell_type": "markdown",
   "metadata": {},
   "source": [
    "### Show top 3 Category Codes of causes:"
   ]
  },
  {
   "cell_type": "code",
   "execution_count": 51,
   "metadata": {},
   "outputs": [
    {
     "name": "stdout",
     "output_type": "stream",
     "text": [
      "detailedCategoryCode: \n",
      " E2    196\n",
      "E1    132\n",
      "M1     98\n",
      "Name: detailedCategoryCode, dtype: int64\n",
      "\n",
      "detailedCategoryCodeId: \n",
      " 148.0    196\n",
      "98.0     132\n",
      "164.0     98\n",
      "Name: detailedCategoryCodeId, dtype: int64\n"
     ]
    }
   ],
   "source": [
    "print(\"detailedCategoryCode: \\n\", causes['detailedCategoryCode'].value_counts().iloc[0:3])\n",
    "print()\n",
    "print(\"detailedCategoryCodeId: \\n\", causes['detailedCategoryCodeId'].value_counts().iloc[0:3])"
   ]
  },
  {
   "cell_type": "markdown",
   "metadata": {},
   "source": [
    "**From that it can be seen, that the causes with the category code**\n",
    "\n",
    "1. E2 148\n",
    "2. E1 98\n",
    "3. M1 164\n",
    "\n",
    "**are the most often occuring for the train category \"Commuter\".**"
   ]
  },
  {
   "cell_type": "markdown",
   "metadata": {},
   "source": [
    "# Final conclusion\n",
    "\n",
    "Please write 2-3 sentences about your findings and how you would interpret them/explain them to a customer."
   ]
  },
  {
   "cell_type": "markdown",
   "metadata": {},
   "source": [
    "- **According to the findings, approximately 16 % of the rides operated in January 2021 can be considered as anomal.**\n",
    "\n",
    "\n",
    "- **Due to the in-depth investigation of the features \"Operator\", \"Train-Type\" and \"Train-Category\" I can recommmend looking at operator \"vr\", trainType \"HL\" and trainCategory \"Commuter\" as those are most often concerned to be anomal.**\n",
    "\n",
    "\n",
    "- **The respective causes included in the anormality detection and the Category Codes of the cause can be found above. This might help the customer to purposefully counteract to those causes in order for the data sample not being anomal in the future.**\n"
   ]
  }
 ],
 "metadata": {
  "kernelspec": {
   "display_name": "Python 3",
   "language": "python",
   "name": "python3"
  },
  "language_info": {
   "codemirror_mode": {
    "name": "ipython",
    "version": 3
   },
   "file_extension": ".py",
   "mimetype": "text/x-python",
   "name": "python",
   "nbconvert_exporter": "python",
   "pygments_lexer": "ipython3",
   "version": "3.8.5"
  }
 },
 "nbformat": 4,
 "nbformat_minor": 4
}
